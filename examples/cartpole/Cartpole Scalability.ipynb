{
 "cells": [
  {
   "cell_type": "code",
   "execution_count": 1,
   "metadata": {},
   "outputs": [],
   "source": [
    "from __future__ import print_function\n",
    "\n",
    "plot_to_pdf = True\n",
    "\n",
    "if plot_to_pdf:\n",
    "    import matplotlib as mpl\n",
    "    mpl.use('pdf')\n",
    "    \n",
    "    import matplotlib.pyplot as plt\n",
    "    \n",
    "    plt.rc('font', family='serif', serif='Times')\n",
    "    plt.rc('text', usetex=True)\n",
    "    plt.rc('xtick', labelsize=10)\n",
    "    plt.rc('ytick', labelsize=10)\n",
    "    plt.rc('axes', labelsize=10)\n",
    "    plt.rc('legend', fontsize=10)\n",
    "    title_font_size = 12\n",
    "    data_font_size = 8\n",
    "else:\n",
    "    import matplotlib.pyplot as plt\n",
    "\n",
    "import pyexotica as exo\n",
    "import numpy as np\n",
    "from time import time\n",
    "\n",
    "from tqdm import *\n",
    "\n",
    "import matplotlib\n",
    "import matplotlib.pyplot as plt\n",
    "from matplotlib.ticker import FuncFormatter, MultipleLocator\n",
    "%matplotlib inline\n",
    "\n",
    "from topological_memory_clustering.homology import *"
   ]
  },
  {
   "cell_type": "code",
   "execution_count": 2,
   "metadata": {},
   "outputs": [
    {
     "name": "stdout",
     "output_type": "stream",
     "text": [
      "(366, 50, 4)\n"
     ]
    }
   ],
   "source": [
    "data = np.load('cartpole_policies_analytic_from_random_50.npz')\n",
    "data.keys()\n",
    "solutions = data['state_trajectories'].swapaxes(1,2)\n",
    "print(solutions.shape)"
   ]
  },
  {
   "cell_type": "code",
   "execution_count": 3,
   "metadata": {},
   "outputs": [],
   "source": [
    "from scipy import signal\n",
    "from scipy import interpolate\n",
    "from tqdm import tqdm\n",
    "from matplotlib import colors"
   ]
  },
  {
   "cell_type": "code",
   "execution_count": 4,
   "metadata": {},
   "outputs": [
    {
     "name": "stderr",
     "output_type": "stream",
     "text": [
      "  0%|          | 0/24 [00:00<?, ?it/s]"
     ]
    },
    {
     "name": "stdout",
     "output_type": "stream",
     "text": [
      "(366, 50, 4)\n",
      "2 took 0.09607648849487305\n"
     ]
    },
    {
     "name": "stderr",
     "output_type": "stream",
     "text": [
      "  8%|▊         | 2/24 [00:00<00:05,  3.99it/s]"
     ]
    },
    {
     "name": "stdout",
     "output_type": "stream",
     "text": [
      "4 took 0.4054141044616699\n"
     ]
    },
    {
     "name": "stderr",
     "output_type": "stream",
     "text": [
      " 12%|█▎        | 3/24 [00:01<00:12,  1.66it/s]"
     ]
    },
    {
     "name": "stdout",
     "output_type": "stream",
     "text": [
      "6 took 1.0954279899597168\n"
     ]
    },
    {
     "name": "stderr",
     "output_type": "stream",
     "text": [
      " 17%|█▋        | 4/24 [00:07<00:54,  2.74s/it]"
     ]
    },
    {
     "name": "stdout",
     "output_type": "stream",
     "text": [
      "8 took 6.328124046325684\n"
     ]
    },
    {
     "name": "stderr",
     "output_type": "stream",
     "text": [
      " 21%|██        | 5/24 [00:14<01:17,  4.09s/it]"
     ]
    },
    {
     "name": "stdout",
     "output_type": "stream",
     "text": [
      "10 took 6.615762710571289\n"
     ]
    },
    {
     "name": "stderr",
     "output_type": "stream",
     "text": [
      " 25%|██▌       | 6/24 [01:02<05:34, 18.60s/it]"
     ]
    },
    {
     "name": "stdout",
     "output_type": "stream",
     "text": [
      "12 took 47.82379102706909\n"
     ]
    },
    {
     "name": "stderr",
     "output_type": "stream",
     "text": [
      " 29%|██▉       | 7/24 [02:19<10:37, 37.49s/it]"
     ]
    },
    {
     "name": "stdout",
     "output_type": "stream",
     "text": [
      "14 took 77.32179021835327\n"
     ]
    },
    {
     "name": "stderr",
     "output_type": "stream",
     "text": [
      " 33%|███▎      | 8/24 [04:13<16:25, 61.61s/it]"
     ]
    },
    {
     "name": "stdout",
     "output_type": "stream",
     "text": [
      "16 took 114.10852599143982\n"
     ]
    },
    {
     "name": "stderr",
     "output_type": "stream",
     "text": [
      " 38%|███▊      | 9/24 [06:02<19:01, 76.13s/it]"
     ]
    },
    {
     "name": "stdout",
     "output_type": "stream",
     "text": [
      "18 took 108.4223198890686\n"
     ]
    },
    {
     "name": "stderr",
     "output_type": "stream",
     "text": [
      " 42%|████▏     | 10/24 [09:04<25:20, 108.59s/it]"
     ]
    },
    {
     "name": "stdout",
     "output_type": "stream",
     "text": [
      "20 took 181.8377718925476\n"
     ]
    },
    {
     "name": "stderr",
     "output_type": "stream",
     "text": [
      " 46%|████▌     | 11/24 [13:20<33:16, 153.58s/it]"
     ]
    },
    {
     "name": "stdout",
     "output_type": "stream",
     "text": [
      "22 took 256.1241545677185\n"
     ]
    },
    {
     "name": "stderr",
     "output_type": "stream",
     "text": [
      " 50%|█████     | 12/24 [18:51<41:31, 207.64s/it]"
     ]
    },
    {
     "name": "stdout",
     "output_type": "stream",
     "text": [
      "24 took 331.75883436203003\n"
     ]
    },
    {
     "name": "stderr",
     "output_type": "stream",
     "text": [
      " 54%|█████▍    | 13/24 [25:55<50:03, 273.07s/it]"
     ]
    },
    {
     "name": "stdout",
     "output_type": "stream",
     "text": [
      "26 took 424.00057315826416\n"
     ]
    },
    {
     "name": "stderr",
     "output_type": "stream",
     "text": [
      " 58%|█████▊    | 14/24 [34:36<57:58, 347.83s/it]"
     ]
    },
    {
     "name": "stdout",
     "output_type": "stream",
     "text": [
      "28 took 520.8801038265228\n"
     ]
    },
    {
     "name": "stderr",
     "output_type": "stream",
     "text": [
      " 62%|██████▎   | 15/24 [50:28<1:19:26, 529.61s/it]"
     ]
    },
    {
     "name": "stdout",
     "output_type": "stream",
     "text": [
      "30 took 951.4278457164764\n"
     ]
    },
    {
     "name": "stderr",
     "output_type": "stream",
     "text": [
      " 67%|██████▋   | 16/24 [1:08:08<1:31:53, 689.22s/it]"
     ]
    },
    {
     "name": "stdout",
     "output_type": "stream",
     "text": [
      "32 took 1060.1820802688599\n"
     ]
    },
    {
     "name": "stderr",
     "output_type": "stream",
     "text": [
      " 71%|███████   | 17/24 [1:28:40<1:39:26, 852.32s/it]"
     ]
    },
    {
     "name": "stdout",
     "output_type": "stream",
     "text": [
      "34 took 1231.8649756908417\n"
     ]
    },
    {
     "name": "stderr",
     "output_type": "stream",
     "text": [
      " 75%|███████▌  | 18/24 [1:50:59<1:39:51, 998.55s/it]"
     ]
    },
    {
     "name": "stdout",
     "output_type": "stream",
     "text": [
      "36 took 1339.095703125\n"
     ]
    },
    {
     "name": "stderr",
     "output_type": "stream",
     "text": [
      " 79%|███████▉  | 19/24 [2:16:02<1:35:49, 1149.99s/it]"
     ]
    },
    {
     "name": "stdout",
     "output_type": "stream",
     "text": [
      "38 took 1502.897134065628\n"
     ]
    },
    {
     "name": "stderr",
     "output_type": "stream",
     "text": [
      " 83%|████████▎ | 20/24 [2:42:02<1:24:52, 1273.06s/it]"
     ]
    },
    {
     "name": "stdout",
     "output_type": "stream",
     "text": [
      "40 took 1559.9502868652344\n"
     ]
    },
    {
     "name": "stderr",
     "output_type": "stream",
     "text": [
      " 88%|████████▊ | 21/24 [3:16:02<1:15:09, 1503.22s/it]"
     ]
    },
    {
     "name": "stdout",
     "output_type": "stream",
     "text": [
      "42 took 2039.896108865738\n"
     ]
    },
    {
     "name": "stderr",
     "output_type": "stream",
     "text": [
      " 92%|█████████▏| 22/24 [3:56:47<59:31, 1785.80s/it]  "
     ]
    },
    {
     "name": "stdout",
     "output_type": "stream",
     "text": [
      "44 took 2444.8745341300964\n"
     ]
    },
    {
     "name": "stderr",
     "output_type": "stream",
     "text": [
      " 96%|█████████▌| 23/24 [4:48:08<36:14, 2174.53s/it]"
     ]
    },
    {
     "name": "stdout",
     "output_type": "stream",
     "text": [
      "46 took 3081.2509953975677\n"
     ]
    },
    {
     "name": "stderr",
     "output_type": "stream",
     "text": [
      "100%|██████████| 24/24 [5:49:05<00:00, 872.73s/it] "
     ]
    },
    {
     "name": "stdout",
     "output_type": "stream",
     "text": [
      "48 took 3657.3510966300964\n"
     ]
    },
    {
     "name": "stderr",
     "output_type": "stream",
     "text": [
      "\n"
     ]
    }
   ],
   "source": [
    "debug_plot_scalability = False\n",
    "\n",
    "print(solutions.shape)\n",
    "scalability = np.nan * np.ones((solutions.shape[0]+1, solutions.shape[1]+1))\n",
    "\n",
    "T_old = solutions.shape[1]\n",
    "D = solutions.shape[2] # Dimension of state space\n",
    "N_lower = 2\n",
    "T_lower = 5\n",
    "\n",
    "N_max = 50 # solutions.shape[0]\n",
    "T_max = 50 # solutions.shape[1]\n",
    "\n",
    "for N in tqdm(range(N_lower, N_max, 2)):\n",
    "    s = time()\n",
    "    for T_new in range(T_lower, T_max, 2):        \n",
    "        debug_plot_scalability and plt.figure()\n",
    "        debug_plot_scalability and plt.plot(demos_tmp[0,:,0], demos_tmp[0,:,1], '-.', label='Original')\n",
    "        \n",
    "        demos_tmp = np.zeros((N, T_new, D))\n",
    "        for n in range(N):\n",
    "            for d in range(D):\n",
    "                range_old = np.linspace(0, 1, T_old)\n",
    "                range_new = np.linspace(0, 1, T_new)\n",
    "                my_interp = interpolate.interp1d(range_old, solutions[n,:,d], kind='cubic')\n",
    "                demos_tmp[n,:,d] = my_interp(range_new)\n",
    "                \n",
    "        debug_plot_scalability and plt.plot(demos_tmp[0,:,0], demos_tmp[0,:,1], '--x', label='Resampled')\n",
    "        debug_plot_scalability and plt.legend()\n",
    "        debug_plot_scalability and plt.show()\n",
    "        \n",
    "        #print(N, time_subsampling, demos_tmp.shape)\n",
    "        result_tmp, D_tmp = compute_homology_filtration(demos_tmp, debug=False)\n",
    "        scalability[N,T_new] = result_tmp['time_dense']\n",
    "        \n",
    "        #print(\"N={0}\\t T={1}\\t time={2:.3f}\".format(N, T_new, result_tmp['time_dense']))\n",
    "        del result_tmp, D_tmp\n",
    "    e = time()\n",
    "    print(N, \"took\", e-s)"
   ]
  },
  {
   "cell_type": "code",
   "execution_count": 5,
   "metadata": {},
   "outputs": [],
   "source": [
    "scalability_expected = np.nan * np.ones((solutions.shape[0]+1, solutions.shape[1]+1))\n",
    "for N in range(2, solutions.shape[0]):\n",
    "    for T_new in range(5, solutions.shape[1]):\n",
    "        scalability_expected[N,T_new] = (N*(T_new-1))**2"
   ]
  },
  {
   "cell_type": "code",
   "execution_count": 6,
   "metadata": {},
   "outputs": [],
   "source": [
    "array = scalability.copy()\n",
    "\n",
    "x = np.arange(0, array.shape[1])\n",
    "y = np.arange(0, array.shape[0])\n",
    "#mask invalid values\n",
    "array = np.ma.masked_invalid(array)\n",
    "xx, yy = np.meshgrid(x, y)\n",
    "#get only the valid values\n",
    "x1 = xx[~array.mask]\n",
    "y1 = yy[~array.mask]\n",
    "newarr = array[~array.mask]\n",
    "\n",
    "GD1 = interpolate.griddata((x1, y1), newarr.ravel(),\n",
    "                          (xx, yy),\n",
    "                           method='cubic')\n",
    "GD1[-3,:]= GD1[-4,:]\n",
    "GD1[-2,:]= GD1[-3,:]"
   ]
  },
  {
   "cell_type": "code",
   "execution_count": 7,
   "metadata": {},
   "outputs": [
    {
     "data": {
      "image/png": "[encoded data removed]",
      "text/plain": [
       "<Figure size 1800x900 with 4 Axes>"
      ]
     },
     "metadata": {
      "needs_background": "light"
     },
     "output_type": "display_data"
    }
   ],
   "source": [
    "fig, ax = plt.subplots(1, 2, sharey=True)\n",
    "fig.set_dpi(300)\n",
    "fig.set_size_inches(6,3)\n",
    "\n",
    "plt.subplot(121)\n",
    "plt.title('Expected Runtime')\n",
    "plt.imshow(scalability_expected * (np.nanmax(scalability) / np.nanmax(scalability_expected)), cmap='plasma', origin='lower', norm=colors.LogNorm(vmin=np.nanmin(scalability), vmax=np.nanmax(scalability)))\n",
    "plt.ylabel(r'Number of samples $N$')\n",
    "plt.xlabel(r'Number of timesteps $T$')\n",
    "plt.ylim(N_lower, 50-2) #solutions.shape[0]-1)\n",
    "plt.xlim(T_lower, 50-2) #solutions.shape[1]-1)\n",
    "plt.minorticks_on()\n",
    "plt.colorbar()\n",
    "\n",
    "plt.subplot(122)\n",
    "plt.title('Actual Runtime')\n",
    "plt.imshow(GD1, cmap='plasma', origin='lower', norm=colors.LogNorm(vmin=np.nanmin(scalability), vmax=np.nanmax(scalability))) #, interpolation='kaiser')\n",
    "#plt.ylabel(r'Number of samples $N$')\n",
    "plt.xlabel(r'Number of timesteps $T$')\n",
    "plt.ylim(N_lower, 50-2) #solutions.shape[0]-1)\n",
    "plt.xlim(T_lower, 50-2) #solutions.shape[1]-1)\n",
    "plt.minorticks_on()\n",
    "plt.colorbar()\n",
    "\n",
    "plt.tight_layout()\n",
    "plt.show()\n",
    "\n",
    "# fig.savefig('plot/cartpole_scalability_runtime2.pdf')"
   ]
  },
  {
   "cell_type": "code",
   "execution_count": 8,
   "metadata": {},
   "outputs": [
    {
     "data": {
      "text/plain": [
       "<matplotlib.image.AxesImage at 0x7fa9e53f9d90>"
      ]
     },
     "execution_count": 8,
     "metadata": {},
     "output_type": "execute_result"
    },
    {
     "data": {
      "image/png": "[encoded data removed]",
      "text/plain": [
       "<Figure size 1800x1200 with 1 Axes>"
      ]
     },
     "metadata": {
      "needs_background": "light"
     },
     "output_type": "display_data"
    }
   ],
   "source": [
    "fig = plt.figure()\n",
    "fig.set_dpi(300)\n",
    "plt.imshow(scalability[5:48,5:48])"
   ]
  }
 ],
 "metadata": {
  "kernelspec": {
   "display_name": "Python 3",
   "language": "python",
   "name": "python3"
  },
  "language_info": {
   "codemirror_mode": {
    "name": "ipython",
    "version": 3
   },
   "file_extension": ".py",
   "mimetype": "text/x-python",
   "name": "python",
   "nbconvert_exporter": "python",
   "pygments_lexer": "ipython3",
   "version": "3.8.5"
  }
 },
 "nbformat": 4,
 "nbformat_minor": 4
}